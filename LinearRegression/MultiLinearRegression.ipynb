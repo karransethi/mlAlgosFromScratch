{
 "cells": [
  {
   "cell_type": "code",
   "execution_count": 15,
   "metadata": {},
   "outputs": [],
   "source": [
    "import numpy as np \n",
    "import pandas as pd "
   ]
  },
  {
   "cell_type": "code",
   "execution_count": 16,
   "metadata": {},
   "outputs": [],
   "source": [
    "from sklearn.datasets import make_regression\n",
    "from sklearn.linear_model import LinearRegression\n",
    "from sklearn.model_selection import train_test_split"
   ]
  },
  {
   "cell_type": "markdown",
   "metadata": {},
   "source": [
    "#### Using matrix form of y_cap = XB \n",
    "and then differentiating it with respect to B we find formula for B which is:\n",
    "##### B = (X_tranpose.X)-1 * (X_transpose.Y)"
   ]
  },
  {
   "cell_type": "code",
   "execution_count": 49,
   "metadata": {},
   "outputs": [],
   "source": [
    "class MyMultiLR:\n",
    "    def __init__(self):\n",
    "        self.offset = []\n",
    "        self.weights = []\n",
    "    def fit(self, x, y):\n",
    "        # we insert rows of 1 in our matrix for offset\n",
    "        x=np.insert(x,0,1,axis=1)\n",
    "        x_t = np.transpose(x)\n",
    "        beta = np.linalg.inv(np.dot(x_t,x)).dot(x_t).dot(y)\n",
    "        self.offset = beta[0]\n",
    "        self.weights = beta[1:]\n",
    "    def predict(self,x_test):\n",
    "        return np.dot(x_test,self.weights).ravel() + self.offset\n",
    "        "
   ]
  },
  {
   "cell_type": "code",
   "execution_count": 50,
   "metadata": {},
   "outputs": [],
   "source": [
    "X, y = make_regression(n_samples=300, n_features=4, random_state=42)"
   ]
  },
  {
   "cell_type": "code",
   "execution_count": 51,
   "metadata": {},
   "outputs": [],
   "source": [
    "x_train, x_test, y_train, y_test = train_test_split(X, y , random_state=42, test_size=0.2)"
   ]
  },
  {
   "cell_type": "code",
   "execution_count": 52,
   "metadata": {},
   "outputs": [],
   "source": [
    "mr = MyMultiLR()\n",
    "\n",
    "mr.fit(x_train, y_train)\n",
    "\n",
    "y_pred = mr.predict(x_test)"
   ]
  },
  {
   "cell_type": "code",
   "execution_count": 54,
   "metadata": {},
   "outputs": [
    {
     "data": {
      "text/plain": [
       "array([   4.66752313,  221.48647963,  109.19062881,  -88.81478838,\n",
       "       -121.73528738, -133.84495044,  -88.28173699,  175.10569182,\n",
       "        225.72610851,  123.67119932,   12.92759674,  -16.34294488,\n",
       "         -5.06459018, -202.46144638,  324.53811428, -102.46894393,\n",
       "        271.64296569,   33.11252223,   45.96248574,  249.19103813,\n",
       "        101.7056395 ,   11.4303826 , -205.71102754,  113.41865073,\n",
       "         14.55126449,   78.56537636, -270.57521798, -113.64962182,\n",
       "         13.43795988, -186.96569501, -129.15403662,  160.06944646,\n",
       "        -67.92884023,  118.84142873,   -5.57627421,  -13.68936359,\n",
       "        -80.71192524,  230.55620732,  156.06214586,  105.65943075,\n",
       "         89.12693461,  -15.81914737, -202.8440266 , -187.74310272,\n",
       "       -182.49701207, -219.91606603,  -58.07931654,   -1.55874137,\n",
       "       -174.85082597,  151.61404922,  -66.56769517,   11.75757669,\n",
       "        -72.65750165,   51.41572961,  173.32616352,   -8.66546475,\n",
       "        177.82442125,  180.55812192,  103.56226658,  -16.2271121 ])"
      ]
     },
     "execution_count": 54,
     "metadata": {},
     "output_type": "execute_result"
    }
   ],
   "source": [
    "y_pred"
   ]
  },
  {
   "cell_type": "code",
   "execution_count": 55,
   "metadata": {},
   "outputs": [],
   "source": [
    "lr = LinearRegression()\n",
    "\n",
    "lr.fit(x_train , y_train)\n",
    "\n",
    "y_pred_2 = lr.predict(x_test)"
   ]
  },
  {
   "cell_type": "code",
   "execution_count": 56,
   "metadata": {},
   "outputs": [
    {
     "data": {
      "text/plain": [
       "array([   4.66752313,  221.48647963,  109.19062881,  -88.81478838,\n",
       "       -121.73528738, -133.84495044,  -88.28173699,  175.10569182,\n",
       "        225.72610851,  123.67119932,   12.92759674,  -16.34294488,\n",
       "         -5.06459018, -202.46144638,  324.53811428, -102.46894393,\n",
       "        271.64296569,   33.11252223,   45.96248574,  249.19103813,\n",
       "        101.7056395 ,   11.4303826 , -205.71102754,  113.41865073,\n",
       "         14.55126449,   78.56537636, -270.57521798, -113.64962182,\n",
       "         13.43795988, -186.96569501, -129.15403662,  160.06944646,\n",
       "        -67.92884023,  118.84142873,   -5.57627421,  -13.68936359,\n",
       "        -80.71192524,  230.55620732,  156.06214586,  105.65943075,\n",
       "         89.12693461,  -15.81914737, -202.8440266 , -187.74310272,\n",
       "       -182.49701207, -219.91606603,  -58.07931654,   -1.55874137,\n",
       "       -174.85082597,  151.61404922,  -66.56769517,   11.75757669,\n",
       "        -72.65750165,   51.41572961,  173.32616352,   -8.66546475,\n",
       "        177.82442125,  180.55812192,  103.56226658,  -16.2271121 ])"
      ]
     },
     "execution_count": 56,
     "metadata": {},
     "output_type": "execute_result"
    }
   ],
   "source": [
    "y_pred_2"
   ]
  },
  {
   "cell_type": "code",
   "execution_count": 57,
   "metadata": {},
   "outputs": [
    {
     "data": {
      "text/plain": [
       "(array([ 4.34125329, 95.14033422, 63.31513756, 60.16118201]),\n",
       " 1.4210854715202004e-14)"
      ]
     },
     "execution_count": 57,
     "metadata": {},
     "output_type": "execute_result"
    }
   ],
   "source": [
    "lr.coef_, lr.intercept_"
   ]
  },
  {
   "cell_type": "code",
   "execution_count": 58,
   "metadata": {},
   "outputs": [
    {
     "data": {
      "text/plain": [
       "(array([ 4.34125329, 95.14033422, 63.31513756, 60.16118201]),\n",
       " 2.220446049250313e-15)"
      ]
     },
     "execution_count": 58,
     "metadata": {},
     "output_type": "execute_result"
    }
   ],
   "source": [
    "mr.weights , mr.offset"
   ]
  },
  {
   "cell_type": "code",
   "execution_count": null,
   "metadata": {},
   "outputs": [],
   "source": []
  }
 ],
 "metadata": {
  "kernelspec": {
   "display_name": "Python 3",
   "language": "python",
   "name": "python3"
  },
  "language_info": {
   "codemirror_mode": {
    "name": "ipython",
    "version": 3
   },
   "file_extension": ".py",
   "mimetype": "text/x-python",
   "name": "python",
   "nbconvert_exporter": "python",
   "pygments_lexer": "ipython3",
   "version": "3.9.6"
  }
 },
 "nbformat": 4,
 "nbformat_minor": 2
}
